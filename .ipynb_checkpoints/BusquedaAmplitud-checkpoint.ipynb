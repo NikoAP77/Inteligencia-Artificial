{
 "cells": [
  {
   "cell_type": "markdown",
   "metadata": {},
   "source": [
    "# Busqueda por Amplitud\n",
    "\n",
    "A continuacion se ejemplifica la busqueda por amplitud revisada en clase. Para ello se tiene un ejemplo de las ciudades del territorio Ecuatoriano.\n"
   ]
  },
  {
   "cell_type": "code",
   "execution_count": 17,
   "metadata": {},
   "outputs": [],
   "source": [
    "# Busqueda en Amplitud - Breadth First Search\n",
    "import networkx as nx\n",
    "# Creamos la clase Nodo\n",
    "class Node:\n",
    "    def __init__(self, data, child=None): # Constructor de la clase\n",
    "        self.data = data\n",
    "        self.child = None\n",
    "        self.fathr = None\n",
    "        self.cost = None\n",
    "        self.set_child(child)\n",
    "\n",
    "    def set_child(self, child): # Agregar hijos\n",
    "        self.child = child\n",
    "        if self.child is not None:\n",
    "            for ch in self.child:\n",
    "                ch.fathr = self\n",
    "            \n",
    "    def equal(self, node): # Igual al equals de Java\n",
    "        if self.data == node.data:\n",
    "            return True\n",
    "        else:\n",
    "            return False\n",
    "\n",
    "    def on_list(self, node_list): # Verfiicar su el nodo esta en la lista\n",
    "        listed = False\n",
    "        for n in node_list:\n",
    "            if self.equal(n):\n",
    "                listed = True\n",
    "        return listed\n",
    "\n",
    "    def __str__(self): # Igual al toString Java\n",
    "        return str(self.data)"
   ]
  },
  {
   "cell_type": "code",
   "execution_count": 30,
   "metadata": {},
   "outputs": [
    {
     "name": "stdout",
     "output_type": "stream",
     "text": [
      "['Cuenca', 'Guayaquil', 'Manta']\n"
     ]
    },
    {
     "data": {
      "image/png": "[encoded data removed]",
      "text/plain": [
       "<Figure size 432x288 with 1 Axes>"
      ]
     },
     "metadata": {
      "needs_background": "light"
     },
     "output_type": "display_data"
    }
   ],
   "source": [
    "# Implementacion del metodo de busqueda por amplitud\n",
    "def search_Amplitud_solution(connections, init_state, solution):\n",
    "    solved = False # Variable para almacenar el estado de la busqueda\n",
    "    visited_nodes = [] # Nodos visitados\n",
    "    frontrs_nodes = [] # Nodos en busqueda o lista nodos\n",
    "\n",
    "    init_node = Node(init_state) # Nodo inicial\n",
    "    frontrs_nodes.append(init_node)\n",
    "    while (not solved) and len(frontrs_nodes) != 0:\n",
    "        node = frontrs_nodes[0]\n",
    "        # extraer nodo y añadirlo a visitados\n",
    "        visited_nodes.append(frontrs_nodes.pop(0))\n",
    "        if node.data == solution: # Preguntar se el nodo obtenido es la solucion\n",
    "            solved = True\n",
    "            return node # Retornamos el nodo de la solucion\n",
    "        else:\n",
    "            # expandir nodos hijo - ciudades con conexion\n",
    "            node_data = node.data\n",
    "            child_list = []\n",
    "            for chld in connections[node_data]:\n",
    "                child = Node(chld)\n",
    "                child_list.append(child)\n",
    "                if not child.on_list(visited_nodes) and not child.on_list(frontrs_nodes):\n",
    "                    frontrs_nodes.append(child)\n",
    "            node.set_child(child_list)\n",
    "\n",
    "if __name__ == \"__main__\":\n",
    "    connections = {\n",
    "        'Cuenca': {'Riobamba', 'Quito', 'Guayaquil'},\n",
    "        'Latacunga': {'Ambato', 'Quito'},\n",
    "        'Esmeraldas': {'Manta'},\n",
    "        'Manta': {'Guayaquil'},\n",
    "        'Quito': {'Riobamba', 'Latacunga', 'Cuenca', 'Guayaquil', 'Puyo'},\n",
    "        'Riobamba': {'Cuenca', 'Quito'},\n",
    "        'Ambato': {'Latacunga', 'Puyo', 'Guayaquil'},\n",
    "        'Puyo': {'Ambato', 'Quito'},\n",
    "        'Machala': {'Guayaquil'},\n",
    "        'Guayaquil': {'Machala', 'Ambato', 'Quito', 'Cuenca', 'Manta'}\n",
    "        \n",
    "        #Hospitales\n",
    "        'H. Universitario Catolico': {'H. Del Dia', 'H. Antiguo IESS'},\n",
    "        'H. Del Dia': {'H. Universitario Catolico', 'H. San Martin De Porres'},\n",
    "         \n",
    "        \n",
    "    }\n",
    "\n",
    "    init_state = 'Cuenca'\n",
    "    solution = 'Manta'\n",
    "    solution_node = search_Amplitud_solution(connections, init_state, solution)\n",
    "    # mostrar resultado\n",
    "    result = []\n",
    "    node = solution_node\n",
    "    \n",
    "    grafic = nx.Graph()\n",
    "    grafic.add_nodes_from(connections)\n",
    "    \n",
    "   #grafic.add_edge(key,lista[i])  \n",
    "    for key, lista in connections.items():\n",
    "        for i in lista:\n",
    "            grafic.add_edge(key,i)\n",
    "     \n",
    "    \n",
    "    \n",
    "    if node is not None: \n",
    "        while node.fathr is not None:\n",
    "            result.append(node.data)\n",
    "            node = node.fathr\n",
    "        result.append(init_state)\n",
    "        result.reverse() # Reverso el resultado (Solo para presentar)\n",
    "        print(result)\n",
    "        nx.draw_networkx(grafic, witch_label = True)\n",
    "    else:\n",
    "        print(\"No hay solucion !!!!\")"
   ]
  },
  {
   "cell_type": "markdown",
   "metadata": {},
   "source": [
    "# Tarea: Cálculo del factor de ramificación\n",
    "Realice el cálculo del factor de ramificación del problema de las N reinas (con N = 4). Para ello deberá realizar las siguientes actividades:\n",
    "\n",
    "Asumir que el factor de ramificación es constante.\n",
    "Despejar el valor de b\n",
    "Consultar sitios externos sobre cómo realizar el cálculo"
   ]
  },
  {
   "cell_type": "code",
   "execution_count": 27,
   "metadata": {},
   "outputs": [],
   "source": [
    "# Agregar la solucion en markdown (Informe)"
   ]
  },
  {
   "cell_type": "markdown",
   "metadata": {},
   "source": [
    "## Practica\n",
    "\n",
    "Implementar un algoritmo que me permita dibujar las conexiones y los resultados del grafo.\n",
    "\n",
    "Mediante el uso de la herramienta de Google Maps tomar al su direccion domiciliaria como punto de partida y generar un arbol jerarquico con todos los posibles Hospitales, para ello se debe tener como primer nivel los mas cercanos y a continuacion los demas.\n",
    "\n",
    "\n",
    "Realizar los calculos para obtener el factor de ramificacion, análisis del algoritmo en términos de completitud, optimalidad, complejidad temporal y complejidad espacial.\n",
    "\n",
    "\n",
    "Subir el cuaderno con la resolucion"
   ]
  },
  {
   "cell_type": "code",
   "execution_count": 14,
   "metadata": {
    "scrolled": true
   },
   "outputs": [
    {
     "name": "stdout",
     "output_type": "stream",
     "text": [
      "[[4, 2, 3, 1], [2, 4, 3, 1], [2, 3, 4, 1], [2, 3, 1, 4], [2, 1, 3, 4], [1, 2, 3, 4]]\n"
     ]
    }
   ],
   "source": [
    "# Implementar"
   ]
  },
  {
   "cell_type": "markdown",
   "metadata": {},
   "source": [
    "# Conclusiones"
   ]
  }
 ],
 "metadata": {
  "kernelspec": {
   "display_name": "Python 3",
   "language": "python",
   "name": "python3"
  },
  "language_info": {
   "codemirror_mode": {
    "name": "ipython",
    "version": 3
   },
   "file_extension": ".py",
   "mimetype": "text/x-python",
   "name": "python",
   "nbconvert_exporter": "python",
   "pygments_lexer": "ipython3",
   "version": "3.7.3"
  }
 },
 "nbformat": 4,
 "nbformat_minor": 2
}
