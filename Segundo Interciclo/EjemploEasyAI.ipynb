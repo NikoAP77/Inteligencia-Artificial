{
 "cells": [
  {
   "cell_type": "markdown",
   "metadata": {},
   "source": [
    "# Ejemplo de tres en raya con easyAI\n",
    "## A continuacion importaremos las librerias"
   ]
  },
  {
   "cell_type": "code",
   "execution_count": 1,
   "metadata": {},
   "outputs": [],
   "source": [
    "from easyAI import TwoPlayersGame, Human_Player, AI_Player, Negamax\n",
    "import numpy as np"
   ]
  },
  {
   "cell_type": "code",
   "execution_count": null,
   "metadata": {},
   "outputs": [],
   "source": [
    "Procederemos a realizar una herencia de la clase TwoPlayersGame y creamos la clase tres en raya"
   ]
  },
  {
   "cell_type": "code",
   "execution_count": null,
   "metadata": {},
   "outputs": [
    {
     "name": "stdout",
     "output_type": "stream",
     "text": [
      "{1: (0, 0), 2: (0, 1), 3: (0, 2), 4: (1, 0), 5: (1, 1), 6: (1, 2), 7: (2, 0), 8: (2, 1), 9: (2, 2)}\n",
      "[[0 0 0]\n",
      " [0 0 0]\n",
      " [0 0 0]]\n"
     ]
    }
   ],
   "source": [
    "class TresEnRaya(TwoPlayersGame):\n",
    "    \n",
    "    def __init__(self,nplayers): ##Constructor de la clase\n",
    "        self.tablero = np.zeros((3,3),dtype = int) ## Creamos un tablero de 3x2\n",
    "        self.nplayer = 1\n",
    "        self.mapa = {}\n",
    "        cont = 1 ##Creamos un contador para recorrer el mapa \n",
    "        for i in range(len(self.tablero)): #Inicializa os el mapa\n",
    "            for j in range(len(self.tablero)):\n",
    "                self.mapa[cont]=(i,j)\n",
    "                cont+=1\n",
    "                \n",
    "        #print(self.mapa) #Imprimimos el mapa de ser necesario\n",
    "        self.players = nplayers\n",
    "        \n",
    "    #Definimos los posibles movimientos\n",
    "    def possible_moves(self):\n",
    "        moves = []\n",
    "        cont = 1\n",
    "        for i in range(len(self.tablero)):\n",
    "            for j in range(len(self.tablero)):\n",
    "                if self.tablero[i][j] == 0:\n",
    "                    moves.append(cont)\n",
    "                cont+=1\n",
    "                \n",
    "        #print(moves)\n",
    "        return moves\n",
    "    \n",
    "    def make_move(self,casillero): #Realizar los movimientos\n",
    "        pos = self.mapa[casillero]\n",
    "        self.tablero[pos[0]][pos[1]] = self.nplayer\n",
    "        \n",
    "    def unmake_move(self,casillero):\n",
    "        pos = self.mapa[casillero]\n",
    "        self.tablero[pos[0]][pos[1]] = 0\n",
    "        \n",
    "    def lose(self): #Verificar si gana o pierde\n",
    "        for i in range(len(self.tablero)):\n",
    "            if np.all(self.tablero[i,:]==self.nopponent,axis = 0) or np.all(self.tablero[:,i]==self.nopponent,axis = 0):\n",
    "                return True\n",
    "        \n",
    "        #Diagonal principal\n",
    "        if self.tablero[0][0]==self.nopponent and self.tablero[1][1]==self.nopponent and self.tablero[2][2]==self.nopponent:\n",
    "            return True\n",
    "        #Diagonal secundario\n",
    "        if self.tablero[2][0]==self.nopponent and self.tablero[1][1]==self.nopponent and self.tablero[0][2]==self.nopponent:\n",
    "            return True\n",
    "        \n",
    "        return False\n",
    "    \n",
    " \n",
    "    def show(self): #Cada iteracion muestra el tablero\n",
    "        print(self.tablero)\n",
    "        \n",
    "      \n",
    "    def scoring(self):\n",
    "        return -100 if self.lose() else 0\n",
    "\n",
    "        \n",
    "    def is_over(self): #Validadmos si tiene mas movimientos o pierde\n",
    "        return (self.possible_moves() == [] or self.lose())\n",
    "            \n",
    "    \n",
    "if __name__==\"__main__\": #Main - ejecutar el algoritmo\n",
    "    ai_algo = Negamax(6)\n",
    "    tresenraya = TresEnRaya([Human_Player(),AI_Player(ai_algo)])\n",
    "    tresenraya.play()"
   ]
  },
  {
   "cell_type": "code",
   "execution_count": null,
   "metadata": {},
   "outputs": [],
   "source": []
  }
 ],
 "metadata": {
  "kernelspec": {
   "display_name": "Python 3",
   "language": "python",
   "name": "python3"
  },
  "language_info": {
   "codemirror_mode": {
    "name": "ipython",
    "version": 3
   },
   "file_extension": ".py",
   "mimetype": "text/x-python",
   "name": "python",
   "nbconvert_exporter": "python",
   "pygments_lexer": "ipython3",
   "version": "3.7.3"
  }
 },
 "nbformat": 4,
 "nbformat_minor": 2
}
